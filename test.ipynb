{
 "cells": [
  {
   "cell_type": "code",
   "execution_count": 2,
   "id": "1ccf84d2",
   "metadata": {},
   "outputs": [],
   "source": [
    "import re\n",
    "import emoji\n",
    "from soynlp.normalizer import repeat_normalize\n",
    "from transformers import ElectraForSequenceClassification, ElectraTokenizer\n",
    "import torch.nn as nn\n",
    "import pandas as pd"
   ]
  },
  {
   "cell_type": "code",
   "execution_count": 30,
   "id": "44393c14",
   "metadata": {},
   "outputs": [],
   "source": [
    "def infer(x, path) :\n",
    "    model = ElectraForSequenceClassification.from_pretrained(path)\n",
    "    tokenizer = ElectraTokenizer.from_pretrained(\"monologg/koelectra-small-v3-discriminator\")\n",
    "    \n",
    "    emojis = ''.join(emoji.UNICODE_EMOJI.keys())  \n",
    "    pattern = re.compile(f'[^ .,?!/@$%~％·∼()\\x00-\\x7Fㄱ-힣{emojis}]+')\n",
    "    url_pattern = re.compile(\n",
    "        r'https?:\\/\\/(www\\.)?[-a-zA-Z0-9@:%._\\+~#=]{1,256}\\.[a-zA-Z0-9()]{1,6}\\b([-a-zA-Z0-9()@:%_\\+.~#?&//=]*)'\n",
    "    )\n",
    "    processed = pattern.sub(' ', x)\n",
    "    processed = url_pattern.sub(' ', processed)\n",
    "    processed = processed.strip()\n",
    "    processed = repeat_normalize(processed, num_repeats=2)\n",
    "\n",
    "    tokenized = tokenizer(processed, return_tensors='pt')\n",
    "\n",
    "    output = model(tokenized.input_ids, tokenized.attention_mask)\n",
    "    return nn.functional.softmax(output.logits, dim=-1)"
   ]
  },
  {
   "cell_type": "code",
   "execution_count": 3,
   "id": "60c1aa8f",
   "metadata": {},
   "outputs": [
    {
     "name": "stdout",
     "output_type": "stream",
     "text": [
      "[tensor([[0.1159, 0.8841]], grad_fn=<SoftmaxBackward0>), tensor([[0.9903, 0.0097]], grad_fn=<SoftmaxBackward0>), tensor([[0.5789, 0.4211]], grad_fn=<SoftmaxBackward0>), tensor([[0.9829, 0.0171]], grad_fn=<SoftmaxBackward0>), tensor([[0.5789, 0.4211]], grad_fn=<SoftmaxBackward0>), tensor([[0.9718, 0.0282]], grad_fn=<SoftmaxBackward0>), tensor([[0.3979, 0.6021]], grad_fn=<SoftmaxBackward0>), tensor([[0.4374, 0.5626]], grad_fn=<SoftmaxBackward0>), tensor([[0.0695, 0.9305]], grad_fn=<SoftmaxBackward0>), tensor([[0.5789, 0.4211]], grad_fn=<SoftmaxBackward0>), tensor([[0.8015, 0.1985]], grad_fn=<SoftmaxBackward0>), tensor([[0.3722, 0.6278]], grad_fn=<SoftmaxBackward0>), tensor([[0.6336, 0.3664]], grad_fn=<SoftmaxBackward0>), tensor([[0.9964, 0.0036]], grad_fn=<SoftmaxBackward0>), tensor([[0.3432, 0.6568]], grad_fn=<SoftmaxBackward0>)]\n"
     ]
    }
   ],
   "source": [
    "text = '요딴 걸 영화라고 만들어놨네'\n",
    "print(infer(text,'/home/hjgp/research/KoELECTRA/finetune/ckpt/koelectra-small-v3-nsmc-ckpt/checkpoint-46000/'))"
   ]
  },
  {
   "cell_type": "code",
   "execution_count": 27,
   "id": "0554ca98",
   "metadata": {},
   "outputs": [],
   "source": [
    "train_df = pd.read_csv('/home/hjgp/research/NH_intern/reviews_namu.csv')"
   ]
  },
  {
   "cell_type": "code",
   "execution_count": 28,
   "id": "17d4c494",
   "metadata": {},
   "outputs": [],
   "source": [
    "result = infer(train_df['content'][:10], '/home/hjgp/research/KoELECTRA/finetune/ckpt/koelectra-small-v3-nsmc-ckpt/checkpoint-46000/')"
   ]
  },
  {
   "cell_type": "code",
   "execution_count": 11,
   "id": "afcec67a",
   "metadata": {},
   "outputs": [
    {
     "data": {
      "text/plain": [
       "0    3\n",
       "1    1\n",
       "2    1\n",
       "3    2\n",
       "4    5\n",
       "5    5\n",
       "6    1\n",
       "7    5\n",
       "8    1\n",
       "9    1\n",
       "Name: score, dtype: int64"
      ]
     },
     "execution_count": 11,
     "metadata": {},
     "output_type": "execute_result"
    }
   ],
   "source": [
    "train_df['score'][:10]"
   ]
  },
  {
   "cell_type": "code",
   "execution_count": 32,
   "id": "eae9ba8c",
   "metadata": {},
   "outputs": [
    {
     "data": {
      "text/plain": [
       "0    고객정보확인인가 그거 신분증 실패했다고 하거나, 본인확인증 찍고 다음화면이 잘려서 ...\n",
       "1    카카오페이 인증으로 접속이 안되서 ID로 접속하려구 했는데 등록된 단말이 아니라고 ...\n",
       "2    PC용까지 쓰려면 믿고 걸러야 합니다. 600만원짜리 PC, 3개의 HTS 사용자지...\n",
       "3    미장 주식 업데이트 할때마다 회사 주주정보에 총주식수와 유동주식수 나오던게 업데이트...\n",
       "4              해외주식도 차트에 매매내역을 남길 수 있도록 해주세요! 꼭 부탁드려요!\n",
       "5                                                  쉽다.\n",
       "6                       느려 터져 답답해.정보를 다른 증권사 앱을 이용하다니.\n",
       "7                                      너무너무너무너무너무 좋습니다\n",
       "8                            이거 어플 왜이렇게 멈춤현상 렉걸림이ㅡ심한가요\n",
       "9    해외주식거래 LOC매수를 엄청이용하고있는데요 요 며칠 계속 매수가 안되고있네요?? ...\n",
       "Name: content, dtype: object"
      ]
     },
     "execution_count": 32,
     "metadata": {},
     "output_type": "execute_result"
    }
   ],
   "source": [
    "train_df['content'][:10]"
   ]
  },
  {
   "cell_type": "code",
   "execution_count": 29,
   "id": "36dde855",
   "metadata": {
    "scrolled": true
   },
   "outputs": [
    {
     "data": {
      "text/plain": [
       "[0.15034963190555573,\n",
       " 0.9920762777328491,\n",
       " 0.9996480941772461,\n",
       " 0.9986039996147156,\n",
       " 0.01784360036253929,\n",
       " 0.9995195865631104,\n",
       " 0.9996054768562317,\n",
       " 0.008082479238510132,\n",
       " 0.9989297986030579,\n",
       " 0.998897910118103]"
      ]
     },
     "execution_count": 29,
     "metadata": {},
     "output_type": "execute_result"
    }
   ],
   "source": [
    "result"
   ]
  },
  {
   "cell_type": "code",
   "execution_count": 33,
   "id": "ecf48632",
   "metadata": {},
   "outputs": [
    {
     "name": "stdout",
     "output_type": "stream",
     "text": [
      "tensor([[0.1503, 0.8497]], grad_fn=<SoftmaxBackward0>)\n",
      "tensor([[0.9921, 0.0079]], grad_fn=<SoftmaxBackward0>)\n",
      "tensor([[9.9965e-01, 3.5184e-04]], grad_fn=<SoftmaxBackward0>)\n",
      "tensor([[0.9986, 0.0014]], grad_fn=<SoftmaxBackward0>)\n",
      "tensor([[0.0178, 0.9822]], grad_fn=<SoftmaxBackward0>)\n",
      "tensor([[9.9952e-01, 4.8041e-04]], grad_fn=<SoftmaxBackward0>)\n",
      "tensor([[9.9961e-01, 3.9457e-04]], grad_fn=<SoftmaxBackward0>)\n",
      "tensor([[0.0081, 0.9919]], grad_fn=<SoftmaxBackward0>)\n",
      "tensor([[0.9989, 0.0011]], grad_fn=<SoftmaxBackward0>)\n",
      "tensor([[0.9989, 0.0011]], grad_fn=<SoftmaxBackward0>)\n"
     ]
    }
   ],
   "source": [
    "for i in range(10):\n",
    "    print(infer(train_df['content'][:10][i],'/home/hjgp/research/KoELECTRA/finetune/ckpt/koelectra-small-v3-nsmc-ckpt/checkpoint-46000/'))"
   ]
  },
  {
   "cell_type": "code",
   "execution_count": null,
   "id": "d9f66773",
   "metadata": {},
   "outputs": [],
   "source": []
  }
 ],
 "metadata": {
  "kernelspec": {
   "display_name": "Python 3 (ipykernel)",
   "language": "python",
   "name": "python3"
  },
  "language_info": {
   "codemirror_mode": {
    "name": "ipython",
    "version": 3
   },
   "file_extension": ".py",
   "mimetype": "text/x-python",
   "name": "python",
   "nbconvert_exporter": "python",
   "pygments_lexer": "ipython3",
   "version": "3.9.12"
  }
 },
 "nbformat": 4,
 "nbformat_minor": 5
}
