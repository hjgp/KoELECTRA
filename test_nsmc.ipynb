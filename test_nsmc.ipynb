{
 "cells": [
  {
   "cell_type": "code",
   "execution_count": 1,
   "id": "1ccf84d2",
   "metadata": {},
   "outputs": [],
   "source": [
    "import re\n",
    "import emoji\n",
    "from soynlp.normalizer import repeat_normalize\n",
    "from transformers import ElectraForSequenceClassification, ElectraTokenizer, ElectraConfig\n",
    "import torch.nn as nn\n",
    "import pandas as pd\n",
    "\n",
    "from torch.utils.data import DataLoader, RandomSampler, SequentialSampler\n",
    "from fastprogress.fastprogress import master_bar, progress_bar\n",
    "from attrdict import AttrDict\n",
    "\n",
    "from finetune.processor import seq_cls_tasks_num_labels as tasks_num_labels\n",
    "from finetune.processor import seq_cls_processors as processors\n",
    "from finetune.processor import seq_cls_output_modes as output_modes\n",
    "\n",
    "from finetune.processor.seq_cls import seq_cls_convert_examples_to_features\n",
    "from finetune.processor.seq_cls import InputExample\n",
    "\n",
    "\n",
    "import json\n",
    "import torch\n",
    "from torch.utils.data import TensorDataset\n",
    "import numpy as np"
   ]
  },
  {
   "cell_type": "code",
   "execution_count": 2,
   "id": "d6662d3e",
   "metadata": {},
   "outputs": [],
   "source": [
    "def compute_metrics(task_name, labels, preds):\n",
    "    assert len(preds) == len(labels)\n",
    "    if task_name == \"kornli\":\n",
    "        return acc_score(labels, preds)\n",
    "    elif task_name == \"nsmc\":\n",
    "        return acc_score(labels, preds)\n",
    "    elif task_name == \"paws\":\n",
    "        return acc_score(labels, preds)\n",
    "    elif task_name == \"korsts\":\n",
    "        return pearson_and_spearman(labels, preds)\n",
    "    elif task_name == \"question-pair\":\n",
    "        return acc_score(labels, preds)\n",
    "    elif task_name == \"naver-ner\":\n",
    "        return f1_pre_rec(labels, preds, is_ner=True)\n",
    "    elif task_name == \"hate-speech\":\n",
    "        return f1_pre_rec(labels, preds, is_ner=False)\n",
    "    else:\n",
    "        raise KeyError(task_name)\n",
    "        \n",
    "def acc_score(labels, preds):\n",
    "    return {\n",
    "        \"acc\": simple_accuracy(labels, preds),\n",
    "    }\n",
    "def simple_accuracy(labels, preds):\n",
    "    return (labels == preds).mean()"
   ]
  },
  {
   "cell_type": "code",
   "execution_count": 3,
   "id": "fce861d0",
   "metadata": {},
   "outputs": [],
   "source": [
    "class NsmcProcessor(object):\n",
    "    \"\"\"Processor for the NSMC data set \"\"\"\n",
    "\n",
    "    def __init__(self, args, df):\n",
    "        self.args = args\n",
    "\n",
    "    def get_labels(self):\n",
    "        return [\"0\", \"1\"]\n",
    "\n",
    "    @classmethod\n",
    "    def _read_file(cls, df):\n",
    "        \"\"\"Reads a tab separated value file.\"\"\"\n",
    "        lines = []\n",
    "        \n",
    "        for i in range(len(train_df)):\n",
    "            line = train_df.iloc[i]\n",
    "            lines.append(line[['reviewId', 'content', 'score']].to_string(header=False,index=False).strip())\n",
    "        return lines\n",
    "    \n",
    "    def _create_examples(self, lines, set_type):\n",
    "        \"\"\"Creates examples for the training and dev sets.\"\"\"\n",
    "        examples = []\n",
    "        for (i, line) in enumerate(lines[1:]):\n",
    "            line = line.split(\"\\n\")\n",
    "            guid = \"%s-%s\" % (set_type, i)\n",
    "            text_a = line[1].strip()\n",
    "            label = line[2].strip()\n",
    "            examples.append(InputExample(guid=guid, text_a=text_a, text_b=None, label=label))\n",
    "        return examples\n",
    "\n",
    "    def get_examples(self, mode, df):\n",
    "        \"\"\"\n",
    "        Args:\n",
    "            mode: train, dev, test\n",
    "        \"\"\"\n",
    "        file_to_read = None\n",
    "        if mode == \"train\":\n",
    "            file_to_read = self.args.train_file\n",
    "        elif mode == \"dev\":\n",
    "            file_to_read = self.args.dev_file\n",
    "        elif mode == \"test\":\n",
    "            file_to_read = self.args.test_file\n",
    "\n",
    "        return self._create_examples(\n",
    "            self._read_file(df), mode\n",
    "        )"
   ]
  },
  {
   "cell_type": "code",
   "execution_count": 126,
   "id": "44393c14",
   "metadata": {},
   "outputs": [],
   "source": [
    "def infer(x, path) :\n",
    "    model = ElectraForSequenceClassification.from_pretrained(path)\n",
    "    tokenizer = ElectraTokenizer.from_pretrained(\"monologg/koelectra-small-v3-discriminator\")\n",
    "    \n",
    "    emojis = ''.join(emoji.UNICODE_EMOJI.keys())  \n",
    "    pattern = re.compile(f'[^ .,?!/@$%~％·∼()\\x00-\\x7Fㄱ-힣{emojis}]+')\n",
    "    url_pattern = re.compile(\n",
    "        r'https?:\\/\\/(www\\.)?[-a-zA-Z0-9@:%._\\+~#=]{1,256}\\.[a-zA-Z0-9()]{1,6}\\b([-a-zA-Z0-9()@:%_\\+.~#?&//=]*)'\n",
    "    )\n",
    "    processed = pattern.sub(' ', x)\n",
    "    processed = url_pattern.sub(' ', processed)\n",
    "    processed = processed.strip()\n",
    "    processed = repeat_normalize(processed, num_repeats=2)\n",
    "\n",
    "    tokenized = tokenizer(processed, return_tensors='pt')\n",
    "\n",
    "    output = model(tokenized.input_ids, tokenized.attention_mask)\n",
    "    return nn.functional.softmax(output.logits, dim=-1)"
   ]
  },
  {
   "cell_type": "code",
   "execution_count": 170,
   "id": "c041fd9f",
   "metadata": {},
   "outputs": [],
   "source": [
    "def seq_cls_load_and_cache_examples(args, tokenizer, mode, df):\n",
    "    processor = NsmcProcessor(args, df)\n",
    "    # Load data features from cache or dataset file\n",
    "\n",
    "    examples = processor.get_examples(\"test\", df)\n",
    "    features = seq_cls_convert_examples_to_features(args, examples, tokenizer, max_length=args.max_seq_len, task=args.task)\n",
    "    \n",
    "    #torch_tensor_output = torch.tensor(df['output'].values)\n",
    "    \n",
    "    # Convert to Tensors and build dataset\n",
    "    all_input_ids = torch.tensor([f.input_ids for f in features], dtype=torch.long)\n",
    "    all_attention_mask = torch.tensor([f.attention_mask for f in features], dtype=torch.long)\n",
    "    all_token_type_ids = torch.tensor([f.token_type_ids for f in features], dtype=torch.long)\n",
    "    all_labels = torch.tensor([f.label for f in features], dtype=torch.long)\n",
    "\n",
    "    dataset = TensorDataset(all_input_ids, all_attention_mask, all_token_type_ids, all_labels)\n",
    "    return dataset"
   ]
  },
  {
   "cell_type": "code",
   "execution_count": 171,
   "id": "0554ca98",
   "metadata": {},
   "outputs": [],
   "source": [
    "train_df = pd.read_csv('/home/hjgp/research/NH_intern/reviews_namu.csv')"
   ]
  },
  {
   "cell_type": "code",
   "execution_count": 172,
   "id": "a0e67648",
   "metadata": {},
   "outputs": [],
   "source": [
    "train_df['score'] = 1"
   ]
  },
  {
   "cell_type": "code",
   "execution_count": 173,
   "id": "48842f5b",
   "metadata": {},
   "outputs": [],
   "source": [
    "with open('/home/hjgp/research/KoELECTRA/finetune/config/nsmc/koelectra-small-v3.json') as f:\n",
    "    args = AttrDict(json.load(f))\n",
    "\n",
    "processor = processors['nsmc'](args)\n",
    "\n",
    "labels = processor.get_labels()\n",
    "config = ElectraConfig.from_pretrained(\n",
    "    '/home/hjgp/research/KoELECTRA/finetune/ckpt/koelectra-small-v3-nsmc-ckpt/checkpoint-46000/',\n",
    "    num_labels=2,\n",
    "    id2label={str(i): label for i, label in enumerate(labels)},\n",
    "    label2id={label: i for i, label in enumerate(labels)},\n",
    ")\n",
    "\n",
    "\n",
    "tokenizer = ElectraTokenizer.from_pretrained(\n",
    "    \"monologg/koelectra-small-v3-discriminator\",\n",
    ")\n",
    "model = ElectraForSequenceClassification.from_pretrained(\n",
    "    '/home/hjgp/research/KoELECTRA/finetune/ckpt/koelectra-small-v3-nsmc-ckpt/checkpoint-46000/',\n",
    "    config=config\n",
    ")\n",
    "\n",
    "test_dataset = seq_cls_load_and_cache_examples(args, tokenizer, mode=\"test\", df=train_df) ##train_df : 테스트하고싶은 df"
   ]
  },
  {
   "cell_type": "code",
   "execution_count": 174,
   "id": "6175e754",
   "metadata": {},
   "outputs": [
    {
     "data": {
      "text/plain": [
       "(tensor([    2, 22864,  6764,  ...,     0,     0,     0]),\n",
       " tensor([1, 1, 1,  ..., 0, 0, 0]),\n",
       " tensor([0, 0, 0,  ..., 0, 0, 0]),\n",
       " tensor(1))"
      ]
     },
     "execution_count": 174,
     "metadata": {},
     "output_type": "execute_result"
    }
   ],
   "source": [
    "test_dataset[-2]"
   ]
  },
  {
   "cell_type": "code",
   "execution_count": 175,
   "id": "8dc735d2",
   "metadata": {},
   "outputs": [],
   "source": [
    "def test(args, model, test_dataset):\n",
    "    test_sampler = SequentialSampler(test_dataset)\n",
    "    test_dataloader = DataLoader(test_dataset, sampler=test_sampler, batch_size=100)\n",
    "\n",
    "    preds = None\n",
    "    zz = 0\n",
    "    for batch in progress_bar(test_dataloader):\n",
    "        zz += 1\n",
    "        batch = tuple(t.to(args.device) for t in batch)\n",
    "        with torch.no_grad():\n",
    "            inputs = {\n",
    "                \"input_ids\": batch[0],\n",
    "                \"attention_mask\": batch[1],\n",
    "            }\n",
    "\n",
    "            outputs = model(**inputs)\n",
    "            logits = outputs[0]\n",
    "\n",
    "        if preds is None:\n",
    "            preds = nn.functional.softmax(logits, dim=-1).detach().cpu().numpy()\n",
    "        else:\n",
    "            preds = np.append(preds, nn.functional.softmax(logits, dim=-1).detach().cpu().numpy(), axis=0)\n",
    "        \n",
    "\n",
    "#     result = compute_metrics(args.task, out_label_ids, preds)\n",
    "#     results.update(result)\n",
    "\n",
    "    return preds, zz"
   ]
  },
  {
   "cell_type": "code",
   "execution_count": 176,
   "id": "1910bdd4",
   "metadata": {},
   "outputs": [
    {
     "data": {
      "text/html": [
       "\n",
       "<style>\n",
       "    /* Turns off some styling */\n",
       "    progress {\n",
       "        /* gets rid of default border in Firefox and Opera. */\n",
       "        border: none;\n",
       "        /* Needs to be in here for Safari polyfill so background images work as expected. */\n",
       "        background-size: auto;\n",
       "    }\n",
       "    progress:not([value]), progress:not([value])::-webkit-progress-bar {\n",
       "        background: repeating-linear-gradient(45deg, #7e7e7e, #7e7e7e 10px, #5c5c5c 10px, #5c5c5c 20px);\n",
       "    }\n",
       "    .progress-bar-interrupted, .progress-bar-interrupted::-webkit-progress-bar {\n",
       "        background: #F44336;\n",
       "    }\n",
       "</style>\n"
      ],
      "text/plain": [
       "<IPython.core.display.HTML object>"
      ]
     },
     "metadata": {},
     "output_type": "display_data"
    },
    {
     "data": {
      "text/html": [
       "\n",
       "    <div>\n",
       "      <progress value='0' class='' max='51' style='width:300px; height:20px; vertical-align: middle;'></progress>\n",
       "      0.00% [0/51 00:00&lt;?]\n",
       "    </div>\n",
       "    "
      ],
      "text/plain": [
       "<IPython.core.display.HTML object>"
      ]
     },
     "metadata": {},
     "output_type": "display_data"
    },
    {
     "ename": "RuntimeError",
     "evalue": "The expanded size of the tensor (2048) must match the existing size (512) at non-singleton dimension 1.  Target sizes: [100, 2048].  Tensor sizes: [1, 512]",
     "output_type": "error",
     "traceback": [
      "\u001b[0;31m---------------------------------------------------------------------------\u001b[0m",
      "\u001b[0;31mRuntimeError\u001b[0m                              Traceback (most recent call last)",
      "Input \u001b[0;32mIn [176]\u001b[0m, in \u001b[0;36m<cell line: 2>\u001b[0;34m()\u001b[0m\n\u001b[1;32m      1\u001b[0m args\u001b[38;5;241m.\u001b[39mdevice \u001b[38;5;241m=\u001b[39m \u001b[38;5;124m\"\u001b[39m\u001b[38;5;124mcuda\u001b[39m\u001b[38;5;124m\"\u001b[39m\n\u001b[0;32m----> 2\u001b[0m result, zz \u001b[38;5;241m=\u001b[39m \u001b[43mtest\u001b[49m\u001b[43m(\u001b[49m\u001b[43margs\u001b[49m\u001b[43m,\u001b[49m\u001b[43m \u001b[49m\u001b[43mmodel\u001b[49m\u001b[38;5;241;43m.\u001b[39;49m\u001b[43mcuda\u001b[49m\u001b[43m(\u001b[49m\u001b[43m)\u001b[49m\u001b[43m,\u001b[49m\u001b[43m \u001b[49m\u001b[43mtest_dataset\u001b[49m\u001b[43m)\u001b[49m\n",
      "Input \u001b[0;32mIn [175]\u001b[0m, in \u001b[0;36mtest\u001b[0;34m(args, model, test_dataset)\u001b[0m\n\u001b[1;32m     10\u001b[0m \u001b[38;5;28;01mwith\u001b[39;00m torch\u001b[38;5;241m.\u001b[39mno_grad():\n\u001b[1;32m     11\u001b[0m     inputs \u001b[38;5;241m=\u001b[39m {\n\u001b[1;32m     12\u001b[0m         \u001b[38;5;124m\"\u001b[39m\u001b[38;5;124minput_ids\u001b[39m\u001b[38;5;124m\"\u001b[39m: batch[\u001b[38;5;241m0\u001b[39m],\n\u001b[1;32m     13\u001b[0m         \u001b[38;5;124m\"\u001b[39m\u001b[38;5;124mattention_mask\u001b[39m\u001b[38;5;124m\"\u001b[39m: batch[\u001b[38;5;241m1\u001b[39m],\n\u001b[1;32m     14\u001b[0m     }\n\u001b[0;32m---> 16\u001b[0m     outputs \u001b[38;5;241m=\u001b[39m \u001b[43mmodel\u001b[49m\u001b[43m(\u001b[49m\u001b[38;5;241;43m*\u001b[39;49m\u001b[38;5;241;43m*\u001b[39;49m\u001b[43minputs\u001b[49m\u001b[43m)\u001b[49m\n\u001b[1;32m     17\u001b[0m     logits \u001b[38;5;241m=\u001b[39m outputs[\u001b[38;5;241m0\u001b[39m]\n\u001b[1;32m     19\u001b[0m \u001b[38;5;28;01mif\u001b[39;00m preds \u001b[38;5;129;01mis\u001b[39;00m \u001b[38;5;28;01mNone\u001b[39;00m:\n",
      "File \u001b[0;32m~/anaconda3/envs/research/lib/python3.9/site-packages/torch/nn/modules/module.py:1110\u001b[0m, in \u001b[0;36mModule._call_impl\u001b[0;34m(self, *input, **kwargs)\u001b[0m\n\u001b[1;32m   1106\u001b[0m \u001b[38;5;66;03m# If we don't have any hooks, we want to skip the rest of the logic in\u001b[39;00m\n\u001b[1;32m   1107\u001b[0m \u001b[38;5;66;03m# this function, and just call forward.\u001b[39;00m\n\u001b[1;32m   1108\u001b[0m \u001b[38;5;28;01mif\u001b[39;00m \u001b[38;5;129;01mnot\u001b[39;00m (\u001b[38;5;28mself\u001b[39m\u001b[38;5;241m.\u001b[39m_backward_hooks \u001b[38;5;129;01mor\u001b[39;00m \u001b[38;5;28mself\u001b[39m\u001b[38;5;241m.\u001b[39m_forward_hooks \u001b[38;5;129;01mor\u001b[39;00m \u001b[38;5;28mself\u001b[39m\u001b[38;5;241m.\u001b[39m_forward_pre_hooks \u001b[38;5;129;01mor\u001b[39;00m _global_backward_hooks\n\u001b[1;32m   1109\u001b[0m         \u001b[38;5;129;01mor\u001b[39;00m _global_forward_hooks \u001b[38;5;129;01mor\u001b[39;00m _global_forward_pre_hooks):\n\u001b[0;32m-> 1110\u001b[0m     \u001b[38;5;28;01mreturn\u001b[39;00m \u001b[43mforward_call\u001b[49m\u001b[43m(\u001b[49m\u001b[38;5;241;43m*\u001b[39;49m\u001b[38;5;28;43minput\u001b[39;49m\u001b[43m,\u001b[49m\u001b[43m \u001b[49m\u001b[38;5;241;43m*\u001b[39;49m\u001b[38;5;241;43m*\u001b[39;49m\u001b[43mkwargs\u001b[49m\u001b[43m)\u001b[49m\n\u001b[1;32m   1111\u001b[0m \u001b[38;5;66;03m# Do not call functions when jit is used\u001b[39;00m\n\u001b[1;32m   1112\u001b[0m full_backward_hooks, non_full_backward_hooks \u001b[38;5;241m=\u001b[39m [], []\n",
      "File \u001b[0;32m~/anaconda3/envs/research/lib/python3.9/site-packages/transformers/models/electra/modeling_electra.py:1003\u001b[0m, in \u001b[0;36mElectraForSequenceClassification.forward\u001b[0;34m(self, input_ids, attention_mask, token_type_ids, position_ids, head_mask, inputs_embeds, labels, output_attentions, output_hidden_states, return_dict)\u001b[0m\n\u001b[1;32m    995\u001b[0m \u001b[38;5;124mr\u001b[39m\u001b[38;5;124;03m\"\"\"\u001b[39;00m\n\u001b[1;32m    996\u001b[0m \u001b[38;5;124;03mlabels (`torch.LongTensor` of shape `(batch_size,)`, *optional*):\u001b[39;00m\n\u001b[1;32m    997\u001b[0m \u001b[38;5;124;03m    Labels for computing the sequence classification/regression loss. Indices should be in `[0, ...,\u001b[39;00m\n\u001b[1;32m    998\u001b[0m \u001b[38;5;124;03m    config.num_labels - 1]`. If `config.num_labels == 1` a regression loss is computed (Mean-Square loss), If\u001b[39;00m\n\u001b[1;32m    999\u001b[0m \u001b[38;5;124;03m    `config.num_labels > 1` a classification loss is computed (Cross-Entropy).\u001b[39;00m\n\u001b[1;32m   1000\u001b[0m \u001b[38;5;124;03m\"\"\"\u001b[39;00m\n\u001b[1;32m   1001\u001b[0m return_dict \u001b[38;5;241m=\u001b[39m return_dict \u001b[38;5;28;01mif\u001b[39;00m return_dict \u001b[38;5;129;01mis\u001b[39;00m \u001b[38;5;129;01mnot\u001b[39;00m \u001b[38;5;28;01mNone\u001b[39;00m \u001b[38;5;28;01melse\u001b[39;00m \u001b[38;5;28mself\u001b[39m\u001b[38;5;241m.\u001b[39mconfig\u001b[38;5;241m.\u001b[39muse_return_dict\n\u001b[0;32m-> 1003\u001b[0m discriminator_hidden_states \u001b[38;5;241m=\u001b[39m \u001b[38;5;28;43mself\u001b[39;49m\u001b[38;5;241;43m.\u001b[39;49m\u001b[43melectra\u001b[49m\u001b[43m(\u001b[49m\n\u001b[1;32m   1004\u001b[0m \u001b[43m    \u001b[49m\u001b[43minput_ids\u001b[49m\u001b[43m,\u001b[49m\n\u001b[1;32m   1005\u001b[0m \u001b[43m    \u001b[49m\u001b[43mattention_mask\u001b[49m\u001b[38;5;241;43m=\u001b[39;49m\u001b[43mattention_mask\u001b[49m\u001b[43m,\u001b[49m\n\u001b[1;32m   1006\u001b[0m \u001b[43m    \u001b[49m\u001b[43mtoken_type_ids\u001b[49m\u001b[38;5;241;43m=\u001b[39;49m\u001b[43mtoken_type_ids\u001b[49m\u001b[43m,\u001b[49m\n\u001b[1;32m   1007\u001b[0m \u001b[43m    \u001b[49m\u001b[43mposition_ids\u001b[49m\u001b[38;5;241;43m=\u001b[39;49m\u001b[43mposition_ids\u001b[49m\u001b[43m,\u001b[49m\n\u001b[1;32m   1008\u001b[0m \u001b[43m    \u001b[49m\u001b[43mhead_mask\u001b[49m\u001b[38;5;241;43m=\u001b[39;49m\u001b[43mhead_mask\u001b[49m\u001b[43m,\u001b[49m\n\u001b[1;32m   1009\u001b[0m \u001b[43m    \u001b[49m\u001b[43minputs_embeds\u001b[49m\u001b[38;5;241;43m=\u001b[39;49m\u001b[43minputs_embeds\u001b[49m\u001b[43m,\u001b[49m\n\u001b[1;32m   1010\u001b[0m \u001b[43m    \u001b[49m\u001b[43moutput_attentions\u001b[49m\u001b[38;5;241;43m=\u001b[39;49m\u001b[43moutput_attentions\u001b[49m\u001b[43m,\u001b[49m\n\u001b[1;32m   1011\u001b[0m \u001b[43m    \u001b[49m\u001b[43moutput_hidden_states\u001b[49m\u001b[38;5;241;43m=\u001b[39;49m\u001b[43moutput_hidden_states\u001b[49m\u001b[43m,\u001b[49m\n\u001b[1;32m   1012\u001b[0m \u001b[43m    \u001b[49m\u001b[43mreturn_dict\u001b[49m\u001b[38;5;241;43m=\u001b[39;49m\u001b[43mreturn_dict\u001b[49m\u001b[43m,\u001b[49m\n\u001b[1;32m   1013\u001b[0m \u001b[43m\u001b[49m\u001b[43m)\u001b[49m\n\u001b[1;32m   1015\u001b[0m sequence_output \u001b[38;5;241m=\u001b[39m discriminator_hidden_states[\u001b[38;5;241m0\u001b[39m]\n\u001b[1;32m   1016\u001b[0m logits \u001b[38;5;241m=\u001b[39m \u001b[38;5;28mself\u001b[39m\u001b[38;5;241m.\u001b[39mclassifier(sequence_output)\n",
      "File \u001b[0;32m~/anaconda3/envs/research/lib/python3.9/site-packages/torch/nn/modules/module.py:1110\u001b[0m, in \u001b[0;36mModule._call_impl\u001b[0;34m(self, *input, **kwargs)\u001b[0m\n\u001b[1;32m   1106\u001b[0m \u001b[38;5;66;03m# If we don't have any hooks, we want to skip the rest of the logic in\u001b[39;00m\n\u001b[1;32m   1107\u001b[0m \u001b[38;5;66;03m# this function, and just call forward.\u001b[39;00m\n\u001b[1;32m   1108\u001b[0m \u001b[38;5;28;01mif\u001b[39;00m \u001b[38;5;129;01mnot\u001b[39;00m (\u001b[38;5;28mself\u001b[39m\u001b[38;5;241m.\u001b[39m_backward_hooks \u001b[38;5;129;01mor\u001b[39;00m \u001b[38;5;28mself\u001b[39m\u001b[38;5;241m.\u001b[39m_forward_hooks \u001b[38;5;129;01mor\u001b[39;00m \u001b[38;5;28mself\u001b[39m\u001b[38;5;241m.\u001b[39m_forward_pre_hooks \u001b[38;5;129;01mor\u001b[39;00m _global_backward_hooks\n\u001b[1;32m   1109\u001b[0m         \u001b[38;5;129;01mor\u001b[39;00m _global_forward_hooks \u001b[38;5;129;01mor\u001b[39;00m _global_forward_pre_hooks):\n\u001b[0;32m-> 1110\u001b[0m     \u001b[38;5;28;01mreturn\u001b[39;00m \u001b[43mforward_call\u001b[49m\u001b[43m(\u001b[49m\u001b[38;5;241;43m*\u001b[39;49m\u001b[38;5;28;43minput\u001b[39;49m\u001b[43m,\u001b[49m\u001b[43m \u001b[49m\u001b[38;5;241;43m*\u001b[39;49m\u001b[38;5;241;43m*\u001b[39;49m\u001b[43mkwargs\u001b[49m\u001b[43m)\u001b[49m\n\u001b[1;32m   1111\u001b[0m \u001b[38;5;66;03m# Do not call functions when jit is used\u001b[39;00m\n\u001b[1;32m   1112\u001b[0m full_backward_hooks, non_full_backward_hooks \u001b[38;5;241m=\u001b[39m [], []\n",
      "File \u001b[0;32m~/anaconda3/envs/research/lib/python3.9/site-packages/transformers/models/electra/modeling_electra.py:886\u001b[0m, in \u001b[0;36mElectraModel.forward\u001b[0;34m(self, input_ids, attention_mask, token_type_ids, position_ids, head_mask, inputs_embeds, encoder_hidden_states, encoder_attention_mask, past_key_values, use_cache, output_attentions, output_hidden_states, return_dict)\u001b[0m\n\u001b[1;32m    884\u001b[0m \u001b[38;5;28;01mif\u001b[39;00m \u001b[38;5;28mhasattr\u001b[39m(\u001b[38;5;28mself\u001b[39m\u001b[38;5;241m.\u001b[39membeddings, \u001b[38;5;124m\"\u001b[39m\u001b[38;5;124mtoken_type_ids\u001b[39m\u001b[38;5;124m\"\u001b[39m):\n\u001b[1;32m    885\u001b[0m     buffered_token_type_ids \u001b[38;5;241m=\u001b[39m \u001b[38;5;28mself\u001b[39m\u001b[38;5;241m.\u001b[39membeddings\u001b[38;5;241m.\u001b[39mtoken_type_ids[:, :seq_length]\n\u001b[0;32m--> 886\u001b[0m     buffered_token_type_ids_expanded \u001b[38;5;241m=\u001b[39m \u001b[43mbuffered_token_type_ids\u001b[49m\u001b[38;5;241;43m.\u001b[39;49m\u001b[43mexpand\u001b[49m\u001b[43m(\u001b[49m\u001b[43mbatch_size\u001b[49m\u001b[43m,\u001b[49m\u001b[43m \u001b[49m\u001b[43mseq_length\u001b[49m\u001b[43m)\u001b[49m\n\u001b[1;32m    887\u001b[0m     token_type_ids \u001b[38;5;241m=\u001b[39m buffered_token_type_ids_expanded\n\u001b[1;32m    888\u001b[0m \u001b[38;5;28;01melse\u001b[39;00m:\n",
      "\u001b[0;31mRuntimeError\u001b[0m: The expanded size of the tensor (2048) must match the existing size (512) at non-singleton dimension 1.  Target sizes: [100, 2048].  Tensor sizes: [1, 512]"
     ]
    }
   ],
   "source": [
    "args.device = \"cuda\"\n",
    "result, zz = test(args, model.cuda(), test_dataset)"
   ]
  },
  {
   "cell_type": "code",
   "execution_count": null,
   "id": "215e4fdd",
   "metadata": {},
   "outputs": [],
   "source": [
    "zz"
   ]
  },
  {
   "cell_type": "code",
   "execution_count": null,
   "id": "ad9f113d",
   "metadata": {},
   "outputs": [],
   "source": [
    "result_list = []\n",
    "\n",
    "for i in result:\n",
    "    result_list.append(i[1])"
   ]
  },
  {
   "cell_type": "code",
   "execution_count": null,
   "id": "b509bf02",
   "metadata": {},
   "outputs": [],
   "source": [
    "len(result_list)"
   ]
  },
  {
   "cell_type": "code",
   "execution_count": 161,
   "id": "dfca5d16",
   "metadata": {},
   "outputs": [],
   "source": [
    "result_list.append(1)"
   ]
  },
  {
   "cell_type": "code",
   "execution_count": 162,
   "id": "2fcc11a7",
   "metadata": {},
   "outputs": [],
   "source": [
    "train_df['nsmc'] = result_list"
   ]
  },
  {
   "cell_type": "code",
   "execution_count": 163,
   "id": "df9806db",
   "metadata": {},
   "outputs": [
    {
     "data": {
      "text/plain": [
       "'카카오페이 인증으로 접속이 안되서 ID로 접속하려구 했는데 등록된 단말이 아니라고 ID해지하고 재등록하라구해서 해지하고나서 재등록하려는데 계좌번호입력창에서 숫자가 11자리밖에 입력이 안되서 재등록이 안됩니다.. 그래서 접속이 불가능한데 어떻게 접속해야하나요?'"
      ]
     },
     "execution_count": 163,
     "metadata": {},
     "output_type": "execute_result"
    }
   ],
   "source": [
    "train_df['content'][1]"
   ]
  },
  {
   "cell_type": "code",
   "execution_count": 164,
   "id": "ebc13fc6",
   "metadata": {},
   "outputs": [],
   "source": [
    "train_df.to_csv('tmp.csv', index=False, encoding='utf-8-sig')"
   ]
  },
  {
   "cell_type": "code",
   "execution_count": 165,
   "id": "cc086333",
   "metadata": {},
   "outputs": [],
   "source": [
    "tmp = infer(train_df['content'][1], '/home/hjgp/research/KoELECTRA/finetune/ckpt/koelectra-small-v3-nsmc-ckpt/checkpoint-46000/')"
   ]
  },
  {
   "cell_type": "code",
   "execution_count": 166,
   "id": "e14def38",
   "metadata": {},
   "outputs": [
    {
     "data": {
      "text/plain": [
       "tensor([0.9921, 0.0079], grad_fn=<SelectBackward0>)"
      ]
     },
     "execution_count": 166,
     "metadata": {},
     "output_type": "execute_result"
    }
   ],
   "source": [
    "tmp[0]"
   ]
  },
  {
   "cell_type": "code",
   "execution_count": 167,
   "id": "c2460b5d",
   "metadata": {},
   "outputs": [
    {
     "data": {
      "text/plain": [
       "array([[9.9700373e-01, 2.9962957e-03],\n",
       "       [9.9898189e-01, 1.0181338e-03],\n",
       "       [9.5161390e-01, 4.8386134e-02],\n",
       "       ...,\n",
       "       [9.9904662e-01, 9.5336186e-04],\n",
       "       [8.5410187e-03, 9.9145901e-01],\n",
       "       [9.9907494e-01, 9.2508737e-04]], dtype=float32)"
      ]
     },
     "execution_count": 167,
     "metadata": {},
     "output_type": "execute_result"
    }
   ],
   "source": [
    "result"
   ]
  },
  {
   "cell_type": "code",
   "execution_count": 168,
   "id": "afcec67a",
   "metadata": {},
   "outputs": [
    {
     "data": {
      "text/plain": [
       "0    1\n",
       "1    1\n",
       "2    1\n",
       "3    1\n",
       "4    1\n",
       "5    1\n",
       "6    1\n",
       "7    1\n",
       "8    1\n",
       "Name: score, dtype: int64"
      ]
     },
     "execution_count": 168,
     "metadata": {},
     "output_type": "execute_result"
    }
   ],
   "source": [
    "train_df['score'][:9]"
   ]
  },
  {
   "cell_type": "code",
   "execution_count": 36,
   "id": "eae9ba8c",
   "metadata": {},
   "outputs": [
    {
     "data": {
      "text/plain": [
       "'이거 어플 왜이렇게 멈춤현상 렉걸림이ㅡ심한가요'"
      ]
     },
     "execution_count": 36,
     "metadata": {},
     "output_type": "execute_result"
    }
   ],
   "source": [
    " 1"
   ]
  },
  {
   "cell_type": "code",
   "execution_count": 22,
   "id": "36dde855",
   "metadata": {
    "scrolled": true
   },
   "outputs": [
    {
     "data": {
      "text/html": [
       "<div>\n",
       "<style scoped>\n",
       "    .dataframe tbody tr th:only-of-type {\n",
       "        vertical-align: middle;\n",
       "    }\n",
       "\n",
       "    .dataframe tbody tr th {\n",
       "        vertical-align: top;\n",
       "    }\n",
       "\n",
       "    .dataframe thead th {\n",
       "        text-align: right;\n",
       "    }\n",
       "</style>\n",
       "<table border=\"1\" class=\"dataframe\">\n",
       "  <thead>\n",
       "    <tr style=\"text-align: right;\">\n",
       "      <th></th>\n",
       "      <th>reviewId</th>\n",
       "      <th>userName</th>\n",
       "      <th>userImage</th>\n",
       "      <th>content</th>\n",
       "      <th>score</th>\n",
       "      <th>thumbsUpCount</th>\n",
       "      <th>reviewCreatedVersion</th>\n",
       "      <th>at</th>\n",
       "      <th>replyContent</th>\n",
       "      <th>repliedAt</th>\n",
       "      <th>date</th>\n",
       "    </tr>\n",
       "  </thead>\n",
       "  <tbody>\n",
       "    <tr>\n",
       "      <th>0</th>\n",
       "      <td>a74ab9e7-5b6b-4665-b8e5-4c0a82459cf6</td>\n",
       "      <td>김선구</td>\n",
       "      <td>https://play-lh.googleusercontent.com/a/AItbvm...</td>\n",
       "      <td>고객정보확인인가 그거 신분증 실패했다고 하거나, 본인확인증 찍고 다음화면이 잘려서 ...</td>\n",
       "      <td>3</td>\n",
       "      <td>0</td>\n",
       "      <td>8.90</td>\n",
       "      <td>2022-08-08 07:21:10</td>\n",
       "      <td>NaN</td>\n",
       "      <td>NaN</td>\n",
       "      <td>202208</td>\n",
       "    </tr>\n",
       "    <tr>\n",
       "      <th>1</th>\n",
       "      <td>0df5ae4e-ff08-434a-b7a2-62da3181b586</td>\n",
       "      <td>정수정</td>\n",
       "      <td>https://play-lh.googleusercontent.com/a/AItbvm...</td>\n",
       "      <td>카카오페이 인증으로 접속이 안되서 ID로 접속하려구 했는데 등록된 단말이 아니라고 ...</td>\n",
       "      <td>1</td>\n",
       "      <td>0</td>\n",
       "      <td>8.88</td>\n",
       "      <td>2022-08-07 23:38:18</td>\n",
       "      <td>NaN</td>\n",
       "      <td>NaN</td>\n",
       "      <td>202208</td>\n",
       "    </tr>\n",
       "    <tr>\n",
       "      <th>2</th>\n",
       "      <td>c3169719-6a19-4995-92f2-2eca597ef652</td>\n",
       "      <td>zenter</td>\n",
       "      <td>https://play-lh.googleusercontent.com/a-/AFdZu...</td>\n",
       "      <td>PC용까지 쓰려면 믿고 걸러야 합니다. 600만원짜리 PC, 3개의 HTS 사용자지...</td>\n",
       "      <td>1</td>\n",
       "      <td>0</td>\n",
       "      <td>8.90</td>\n",
       "      <td>2022-08-05 23:52:17</td>\n",
       "      <td>NaN</td>\n",
       "      <td>NaN</td>\n",
       "      <td>202208</td>\n",
       "    </tr>\n",
       "    <tr>\n",
       "      <th>3</th>\n",
       "      <td>cda3efef-4429-4007-b1cb-14bd6fd42b4b</td>\n",
       "      <td>홍길동</td>\n",
       "      <td>https://play-lh.googleusercontent.com/a/AItbvm...</td>\n",
       "      <td>미장 주식 업데이트 할때마다 회사 주주정보에 총주식수와 유동주식수 나오던게 업데이트...</td>\n",
       "      <td>2</td>\n",
       "      <td>0</td>\n",
       "      <td>8.90</td>\n",
       "      <td>2022-08-05 23:22:37</td>\n",
       "      <td>NaN</td>\n",
       "      <td>NaN</td>\n",
       "      <td>202208</td>\n",
       "    </tr>\n",
       "    <tr>\n",
       "      <th>4</th>\n",
       "      <td>996572c2-f4cb-4efe-a400-40b0f0123413</td>\n",
       "      <td>이용현</td>\n",
       "      <td>https://play-lh.googleusercontent.com/a/AItbvm...</td>\n",
       "      <td>해외주식도 차트에 매매내역을 남길 수 있도록 해주세요! 꼭 부탁드려요!</td>\n",
       "      <td>5</td>\n",
       "      <td>0</td>\n",
       "      <td>8.90</td>\n",
       "      <td>2022-08-05 15:22:57</td>\n",
       "      <td>NaN</td>\n",
       "      <td>NaN</td>\n",
       "      <td>202208</td>\n",
       "    </tr>\n",
       "    <tr>\n",
       "      <th>...</th>\n",
       "      <td>...</td>\n",
       "      <td>...</td>\n",
       "      <td>...</td>\n",
       "      <td>...</td>\n",
       "      <td>...</td>\n",
       "      <td>...</td>\n",
       "      <td>...</td>\n",
       "      <td>...</td>\n",
       "      <td>...</td>\n",
       "      <td>...</td>\n",
       "      <td>...</td>\n",
       "    </tr>\n",
       "    <tr>\n",
       "      <th>5009</th>\n",
       "      <td>4c5a5486-9f87-4571-a97e-ba5353cddccc</td>\n",
       "      <td>Google 사용자</td>\n",
       "      <td>https://play-lh.googleusercontent.com/EGemoI2N...</td>\n",
       "      <td>초기 편집이랑 설정잘해놓으면 hts못지않네요 아쉬운건 수수료가 비싸다는 점..</td>\n",
       "      <td>5</td>\n",
       "      <td>0</td>\n",
       "      <td>1.15</td>\n",
       "      <td>2012-03-27 02:23:04</td>\n",
       "      <td>NaN</td>\n",
       "      <td>NaN</td>\n",
       "      <td>201203</td>\n",
       "    </tr>\n",
       "    <tr>\n",
       "      <th>5010</th>\n",
       "      <td>9100e8a6-7d71-4ea7-a972-145d5c1d1821</td>\n",
       "      <td>Google 사용자</td>\n",
       "      <td>https://play-lh.googleusercontent.com/EGemoI2N...</td>\n",
       "      <td>피씨버전을하는듯하네요 상당한 발전이군요</td>\n",
       "      <td>5</td>\n",
       "      <td>1</td>\n",
       "      <td>NaN</td>\n",
       "      <td>2012-03-16 18:39:06</td>\n",
       "      <td>NaN</td>\n",
       "      <td>NaN</td>\n",
       "      <td>201203</td>\n",
       "    </tr>\n",
       "    <tr>\n",
       "      <th>5011</th>\n",
       "      <td>e620e368-649a-4d0d-a772-c4cab76470e1</td>\n",
       "      <td>Google 사용자</td>\n",
       "      <td>https://play-lh.googleusercontent.com/EGemoI2N...</td>\n",
       "      <td>실행 아주 빠릅니다. 계정이 없어도 시세조회 가능합니다. 한번 로그인하면 별도의 로...</td>\n",
       "      <td>5</td>\n",
       "      <td>6</td>\n",
       "      <td>1.06</td>\n",
       "      <td>2011-11-10 20:40:07</td>\n",
       "      <td>NaN</td>\n",
       "      <td>NaN</td>\n",
       "      <td>201111</td>\n",
       "    </tr>\n",
       "    <tr>\n",
       "      <th>5012</th>\n",
       "      <td>471a8ecd-a646-4435-8246-3c924edd647b</td>\n",
       "      <td>Google 사용자</td>\n",
       "      <td>https://play-lh.googleusercontent.com/EGemoI2N...</td>\n",
       "      <td>로그인없이 시세 조회도 가능하고  일단 속도가 다른 어플에 비해서 빠르네요^^</td>\n",
       "      <td>5</td>\n",
       "      <td>2</td>\n",
       "      <td>1.05</td>\n",
       "      <td>2011-11-01 15:28:32</td>\n",
       "      <td>NaN</td>\n",
       "      <td>NaN</td>\n",
       "      <td>201111</td>\n",
       "    </tr>\n",
       "    <tr>\n",
       "      <th>5013</th>\n",
       "      <td>edd3bbc0-03e2-4a8a-aa32-7e8a7481d7e0</td>\n",
       "      <td>Google 사용자</td>\n",
       "      <td>https://play-lh.googleusercontent.com/EGemoI2N...</td>\n",
       "      <td>예전에는 없었던 트위터로 뉴스 바로 내보내기. 원하는 메뉴만 즐겨 찾기 할 수 있는...</td>\n",
       "      <td>5</td>\n",
       "      <td>10</td>\n",
       "      <td>1.01</td>\n",
       "      <td>2011-10-17 13:28:40</td>\n",
       "      <td>NaN</td>\n",
       "      <td>NaN</td>\n",
       "      <td>201110</td>\n",
       "    </tr>\n",
       "  </tbody>\n",
       "</table>\n",
       "<p>5014 rows × 11 columns</p>\n",
       "</div>"
      ],
      "text/plain": [
       "                                  reviewId    userName  \\\n",
       "0     a74ab9e7-5b6b-4665-b8e5-4c0a82459cf6         김선구   \n",
       "1     0df5ae4e-ff08-434a-b7a2-62da3181b586         정수정   \n",
       "2     c3169719-6a19-4995-92f2-2eca597ef652      zenter   \n",
       "3     cda3efef-4429-4007-b1cb-14bd6fd42b4b         홍길동   \n",
       "4     996572c2-f4cb-4efe-a400-40b0f0123413         이용현   \n",
       "...                                    ...         ...   \n",
       "5009  4c5a5486-9f87-4571-a97e-ba5353cddccc  Google 사용자   \n",
       "5010  9100e8a6-7d71-4ea7-a972-145d5c1d1821  Google 사용자   \n",
       "5011  e620e368-649a-4d0d-a772-c4cab76470e1  Google 사용자   \n",
       "5012  471a8ecd-a646-4435-8246-3c924edd647b  Google 사용자   \n",
       "5013  edd3bbc0-03e2-4a8a-aa32-7e8a7481d7e0  Google 사용자   \n",
       "\n",
       "                                              userImage  \\\n",
       "0     https://play-lh.googleusercontent.com/a/AItbvm...   \n",
       "1     https://play-lh.googleusercontent.com/a/AItbvm...   \n",
       "2     https://play-lh.googleusercontent.com/a-/AFdZu...   \n",
       "3     https://play-lh.googleusercontent.com/a/AItbvm...   \n",
       "4     https://play-lh.googleusercontent.com/a/AItbvm...   \n",
       "...                                                 ...   \n",
       "5009  https://play-lh.googleusercontent.com/EGemoI2N...   \n",
       "5010  https://play-lh.googleusercontent.com/EGemoI2N...   \n",
       "5011  https://play-lh.googleusercontent.com/EGemoI2N...   \n",
       "5012  https://play-lh.googleusercontent.com/EGemoI2N...   \n",
       "5013  https://play-lh.googleusercontent.com/EGemoI2N...   \n",
       "\n",
       "                                                content  score  thumbsUpCount  \\\n",
       "0     고객정보확인인가 그거 신분증 실패했다고 하거나, 본인확인증 찍고 다음화면이 잘려서 ...      3              0   \n",
       "1     카카오페이 인증으로 접속이 안되서 ID로 접속하려구 했는데 등록된 단말이 아니라고 ...      1              0   \n",
       "2     PC용까지 쓰려면 믿고 걸러야 합니다. 600만원짜리 PC, 3개의 HTS 사용자지...      1              0   \n",
       "3     미장 주식 업데이트 할때마다 회사 주주정보에 총주식수와 유동주식수 나오던게 업데이트...      2              0   \n",
       "4               해외주식도 차트에 매매내역을 남길 수 있도록 해주세요! 꼭 부탁드려요!      5              0   \n",
       "...                                                 ...    ...            ...   \n",
       "5009        초기 편집이랑 설정잘해놓으면 hts못지않네요 아쉬운건 수수료가 비싸다는 점..      5              0   \n",
       "5010                              피씨버전을하는듯하네요 상당한 발전이군요      5              1   \n",
       "5011  실행 아주 빠릅니다. 계정이 없어도 시세조회 가능합니다. 한번 로그인하면 별도의 로...      5              6   \n",
       "5012        로그인없이 시세 조회도 가능하고  일단 속도가 다른 어플에 비해서 빠르네요^^      5              2   \n",
       "5013  예전에는 없었던 트위터로 뉴스 바로 내보내기. 원하는 메뉴만 즐겨 찾기 할 수 있는...      5             10   \n",
       "\n",
       "      reviewCreatedVersion                   at replyContent repliedAt    date  \n",
       "0                     8.90  2022-08-08 07:21:10          NaN       NaN  202208  \n",
       "1                     8.88  2022-08-07 23:38:18          NaN       NaN  202208  \n",
       "2                     8.90  2022-08-05 23:52:17          NaN       NaN  202208  \n",
       "3                     8.90  2022-08-05 23:22:37          NaN       NaN  202208  \n",
       "4                     8.90  2022-08-05 15:22:57          NaN       NaN  202208  \n",
       "...                    ...                  ...          ...       ...     ...  \n",
       "5009                  1.15  2012-03-27 02:23:04          NaN       NaN  201203  \n",
       "5010                   NaN  2012-03-16 18:39:06          NaN       NaN  201203  \n",
       "5011                  1.06  2011-11-10 20:40:07          NaN       NaN  201111  \n",
       "5012                  1.05  2011-11-01 15:28:32          NaN       NaN  201111  \n",
       "5013                  1.01  2011-10-17 13:28:40          NaN       NaN  201110  \n",
       "\n",
       "[5014 rows x 11 columns]"
      ]
     },
     "execution_count": 22,
     "metadata": {},
     "output_type": "execute_result"
    }
   ],
   "source": [
    "train_df"
   ]
  },
  {
   "cell_type": "code",
   "execution_count": 46,
   "id": "dfea2799",
   "metadata": {},
   "outputs": [
    {
     "data": {
      "text/plain": [
       "'a74ab9e7-5b6b-4665-b8e5-4c0a82459cf6\\n고객정보확인인가 그거 신분증 실패했다고 하거나, 본인확인증 찍고 다음화면이 잘려서 수...\\n                                                 3'"
      ]
     },
     "execution_count": 46,
     "metadata": {},
     "output_type": "execute_result"
    }
   ],
   "source": [
    "ll = train_df.iloc[0][['reviewId', 'content', 'score']].to_string(header=False,index=False).strip()\n",
    "ll"
   ]
  },
  {
   "cell_type": "code",
   "execution_count": null,
   "id": "038781b9",
   "metadata": {},
   "outputs": [],
   "source": []
  },
  {
   "cell_type": "code",
   "execution_count": 42,
   "id": "3273690a",
   "metadata": {},
   "outputs": [
    {
     "data": {
      "text/plain": [
       "['reviewId                 a74ab9e7-5b6b-4665-b8e5-4c0a82459cf6\\ncontent     고객정보확인인가 그거 신분증 실패했다고 하거나, 본인확인증 찍고 다음화면이 잘려서 ...\\nscore                                                       3\\nName: 0, dtype: object']"
      ]
     },
     "execution_count": 42,
     "metadata": {},
     "output_type": "execute_result"
    }
   ],
   "source": [
    "ll.split(\"\\t\")"
   ]
  },
  {
   "cell_type": "code",
   "execution_count": 32,
   "id": "54f88bab",
   "metadata": {},
   "outputs": [
    {
     "data": {
      "text/plain": [
       "reviewId                             0df5ae4e-ff08-434a-b7a2-62da3181b586\n",
       "userName                                                              정수정\n",
       "userImage               https://play-lh.googleusercontent.com/a/AItbvm...\n",
       "content                 카카오페이 인증으로 접속이 안되서 ID로 접속하려구 했는데 등록된 단말이 아니라고 ...\n",
       "score                                                                   1\n",
       "thumbsUpCount                                                           0\n",
       "reviewCreatedVersion                                                 8.88\n",
       "at                                                    2022-08-07 23:38:18\n",
       "replyContent                                                          NaN\n",
       "repliedAt                                                             NaN\n",
       "date                                                               202208\n",
       "Name: 1, dtype: object"
      ]
     },
     "execution_count": 32,
     "metadata": {},
     "output_type": "execute_result"
    }
   ],
   "source": [
    "train_df.iloc[1]"
   ]
  },
  {
   "cell_type": "code",
   "execution_count": 33,
   "id": "ecf48632",
   "metadata": {},
   "outputs": [
    {
     "name": "stdout",
     "output_type": "stream",
     "text": [
      "tensor([[0.1503, 0.8497]], grad_fn=<SoftmaxBackward0>)\n",
      "tensor([[0.9921, 0.0079]], grad_fn=<SoftmaxBackward0>)\n",
      "tensor([[9.9965e-01, 3.5184e-04]], grad_fn=<SoftmaxBackward0>)\n",
      "tensor([[0.9986, 0.0014]], grad_fn=<SoftmaxBackward0>)\n",
      "tensor([[0.0178, 0.9822]], grad_fn=<SoftmaxBackward0>)\n",
      "tensor([[9.9952e-01, 4.8041e-04]], grad_fn=<SoftmaxBackward0>)\n",
      "tensor([[9.9961e-01, 3.9457e-04]], grad_fn=<SoftmaxBackward0>)\n",
      "tensor([[0.0081, 0.9919]], grad_fn=<SoftmaxBackward0>)\n",
      "tensor([[0.9989, 0.0011]], grad_fn=<SoftmaxBackward0>)\n",
      "tensor([[0.9989, 0.0011]], grad_fn=<SoftmaxBackward0>)\n"
     ]
    }
   ],
   "source": [
    "for i in range(10):\n",
    "    print(infer(train_df['content'][:10][i],'/home/hjgp/research/KoELECTRA/finetune/ckpt/koelectra-small-v3-nsmc-ckpt/checkpoint-46000/'))"
   ]
  },
  {
   "cell_type": "code",
   "execution_count": null,
   "id": "d9f66773",
   "metadata": {},
   "outputs": [],
   "source": []
  }
 ],
 "metadata": {
  "kernelspec": {
   "display_name": "Python 3 (ipykernel)",
   "language": "python",
   "name": "python3"
  },
  "language_info": {
   "codemirror_mode": {
    "name": "ipython",
    "version": 3
   },
   "file_extension": ".py",
   "mimetype": "text/x-python",
   "name": "python",
   "nbconvert_exporter": "python",
   "pygments_lexer": "ipython3",
   "version": "3.9.12"
  }
 },
 "nbformat": 4,
 "nbformat_minor": 5
}
