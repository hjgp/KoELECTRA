{
 "cells": [
  {
   "cell_type": "code",
   "execution_count": null,
   "id": "46b09813",
   "metadata": {},
   "outputs": [],
   "source": [
    "import re\n",
    "import emoji\n",
    "from soynlp.normalizer import repeat_normalize\n",
    "from transformers import ElectraForSequenceClassification, ElectraTokenizer\n",
    "import torch.nn as nn\n",
    "import pandas as pd"
   ]
  },
  {
   "cell_type": "code",
   "execution_count": null,
   "id": "95058534",
   "metadata": {},
   "outputs": [],
   "source": [
    "def infer(x, path) :\n",
    "    model = ElectraForSequenceClassification.from_pretrained(path)\n",
    "    tokenizer = ElectraTokenizer.from_pretrained(\"monologg/koelectra-small-v3-discriminator\")\n",
    "    \n",
    "    emojis = ''.join(emoji.UNICODE_EMOJI.keys())  \n",
    "    pattern = re.compile(f'[^ .,?!/@$%~％·∼()\\x00-\\x7Fㄱ-힣{emojis}]+')\n",
    "    url_pattern = re.compile(\n",
    "        r'https?:\\/\\/(www\\.)?[-a-zA-Z0-9@:%._\\+~#=]{1,256}\\.[a-zA-Z0-9()]{1,6}\\b([-a-zA-Z0-9()@:%_\\+.~#?&//=]*)'\n",
    "    )\n",
    "    processed = pattern.sub(' ', x)\n",
    "    processed = url_pattern.sub(' ', processed)\n",
    "    processed = processed.strip()\n",
    "    processed = repeat_normalize(processed, num_repeats=2)\n",
    "\n",
    "    tokenized = tokenizer(processed, return_tensors='pt')\n",
    "\n",
    "    output = model(tokenized.input_ids, tokenized.attention_mask)\n",
    "    return nn.functional.softmax(output.logits, dim=-1)"
   ]
  },
  {
   "cell_type": "code",
   "execution_count": null,
   "id": "bc20eb2c",
   "metadata": {},
   "outputs": [],
   "source": [
    "train_df = pd.read_csv('/home/hjgp/research/NH_intern/reviews_namu.csv')"
   ]
  },
  {
   "cell_type": "code",
   "execution_count": null,
   "id": "5f3139f5",
   "metadata": {},
   "outputs": [],
   "source": [
    "result = infer(train_df['content'][:10], '/home/hjgp/research/KoELECTRA/finetune/ckpt/koelectra-small-v3-naver-ner-ckpt/checkpoint-50000/')"
   ]
  },
  {
   "cell_type": "code",
   "execution_count": null,
   "id": "93dffae3",
   "metadata": {},
   "outputs": [],
   "source": []
  }
 ],
 "metadata": {
  "kernelspec": {
   "display_name": "Python 3 (ipykernel)",
   "language": "python",
   "name": "python3"
  },
  "language_info": {
   "codemirror_mode": {
    "name": "ipython",
    "version": 3
   },
   "file_extension": ".py",
   "mimetype": "text/x-python",
   "name": "python",
   "nbconvert_exporter": "python",
   "pygments_lexer": "ipython3",
   "version": "3.9.12"
  }
 },
 "nbformat": 4,
 "nbformat_minor": 5
}
